{
 "cells": [
  {
   "cell_type": "code",
   "execution_count": 2,
   "id": "ebe36e29-4149-45bf-9b91-8709c9f8f145",
   "metadata": {},
   "outputs": [],
   "source": [
    "import pandas as pd\n",
    "import os\n",
    "import sys\n",
    "from io import StringIO\n",
    "from datetime import datetime, timedelta, time\n",
    "from scipy.integrate import trapezoid\n",
    "\n",
    "#only needed for jupyter file path\n",
    "module_path = os.path.abspath(os.path.join('..'))\n",
    "if module_path not in sys.path:\n",
    "    sys.path.append(module_path)\n",
    "from components.SmartPowerStation import Controls"
   ]
  },
  {
   "cell_type": "code",
   "execution_count": 3,
   "id": "5630b5d0-0f36-4875-bb55-7a1bd8b03feb",
   "metadata": {},
   "outputs": [],
   "source": [
    "CONTROLS = Controls()\n",
    "CONTROLS.url = '192.168.1.136'"
   ]
  },
  {
   "cell_type": "code",
   "execution_count": 3,
   "id": "0d2ebed2-1088-4794-9d0e-1f79cffb32c7",
   "metadata": {},
   "outputs": [],
   "source": [
    "CONTROLS.setTimes('16:00','17:00','4:00')"
   ]
  },
  {
   "cell_type": "code",
   "execution_count": 4,
   "id": "33bbacdd-a244-4228-92e7-10c18ecd4e56",
   "metadata": {},
   "outputs": [
    {
     "data": {
      "text/plain": [
       "datetime.time(16, 0)"
      ]
     },
     "execution_count": 4,
     "metadata": {},
     "output_type": "execute_result"
    }
   ],
   "source": [
    "CONTROLS.dischargeT"
   ]
  },
  {
   "cell_type": "code",
   "execution_count": 5,
   "id": "db3f5f7a-e84e-45d1-830b-57212c5a4887",
   "metadata": {},
   "outputs": [
    {
     "data": {
      "text/plain": [
       "datetime.time(21, 0)"
      ]
     },
     "execution_count": 5,
     "metadata": {},
     "output_type": "execute_result"
    }
   ],
   "source": [
    "CONTROLS.eventEndDT"
   ]
  },
  {
   "cell_type": "code",
   "execution_count": 9,
   "id": "d9154011-5348-4dac-88fc-2b28eddc2494",
   "metadata": {},
   "outputs": [
    {
     "data": {
      "text/plain": [
       "datetime.datetime(1, 1, 1, 0, 0)"
      ]
     },
     "execution_count": 9,
     "metadata": {},
     "output_type": "execute_result"
    }
   ],
   "source": [
    "datetime(year=1,month=1,day=1)"
   ]
  },
  {
   "cell_type": "code",
   "execution_count": 4,
   "id": "4c4592cf-3866-42f5-b963-67622a9cb652",
   "metadata": {},
   "outputs": [
    {
     "name": "stdout",
     "output_type": "stream",
     "text": [
      "\n",
      "0: 0.0\n",
      "1: 0.0\n",
      "2: 0.0\n",
      "3: 0.0\n",
      "tot: 0.0\n",
      "\n",
      "0: 175.46005363208334\n",
      "1: 73.67605186666667\n",
      "2: 0.0\n",
      "3: 0.0\n",
      "tot: 249.13610549875\n",
      "\n",
      "0: 0.0\n",
      "1: 0.0\n",
      "2: 0.0\n",
      "3: 0.0\n",
      "tot: 0.0\n",
      "\n",
      "0: 0.0\n",
      "1: 0.0\n",
      "2: 0.0\n",
      "3: 0.0\n",
      "tot: 0.0\n",
      "\n",
      "0: 0.0\n",
      "1: 2.1452748075\n",
      "2: 14.062102349583336\n",
      "3: 5.621163712500001\n",
      "tot: 21.828540869583335\n",
      "\n",
      "0: 0.0\n",
      "1: 42.46876260541668\n",
      "2: 47.05032753319445\n",
      "3: 0.0\n",
      "tot: 89.51909013861112\n",
      "\n",
      "0: 0.0\n",
      "1: 0.0\n",
      "2: 0.0\n",
      "3: 0.0\n",
      "tot: 0.0\n",
      "\n",
      "0: 14.707820655972217\n",
      "1: 18.242742662500007\n",
      "2: 4.108662279166666\n",
      "3: 4.8577916312500005\n",
      "tot: 41.91701722888889\n",
      "\n",
      "50.30009421697916\n"
     ]
    }
   ],
   "source": [
    "bl = await CONTROLS.estBaseline()\n",
    "\n",
    "print()\n",
    "print(bl)"
   ]
  },
  {
   "cell_type": "code",
   "execution_count": 5,
   "id": "3519a079-0045-48a0-a905-99f036207f22",
   "metadata": {},
   "outputs": [
    {
     "data": {
      "text/plain": [
       "12"
      ]
     },
     "execution_count": 5,
     "metadata": {},
     "output_type": "execute_result"
    }
   ],
   "source": [
    "datetime.now().hour"
   ]
  },
  {
   "cell_type": "code",
   "execution_count": 6,
   "id": "2e299ddc-769a-4d7c-852c-b22e8f23f390",
   "metadata": {},
   "outputs": [
    {
     "data": {
      "text/plain": [
       "datetime.datetime(2025, 4, 21, 11, 59, 10, 920740)"
      ]
     },
     "execution_count": 6,
     "metadata": {},
     "output_type": "execute_result"
    }
   ],
   "source": [
    "e = datetime.now()\n",
    "e"
   ]
  },
  {
   "cell_type": "code",
   "execution_count": 7,
   "id": "1bbd721f-20ce-4e97-84f1-65b519f93870",
   "metadata": {},
   "outputs": [
    {
     "data": {
      "text/plain": [
       "datetime.datetime(2025, 4, 20, 11, 59, 11, 256870)"
      ]
     },
     "execution_count": 7,
     "metadata": {},
     "output_type": "execute_result"
    }
   ],
   "source": [
    "lastFull = datetime.now() - timedelta(days=1, hours =0)\n",
    "s = lastFull\n",
    "s"
   ]
  },
  {
   "cell_type": "code",
   "execution_count": 8,
   "id": "bbf8af88-5410-4282-920c-b13342232b5d",
   "metadata": {},
   "outputs": [
    {
     "data": {
      "text/plain": [
       "1"
      ]
     },
     "execution_count": 8,
     "metadata": {},
     "output_type": "execute_result"
    }
   ],
   "source": [
    "(e - s).days + 1"
   ]
  },
  {
   "cell_type": "code",
   "execution_count": 11,
   "id": "bf4988a0-2612-4cdd-9e5f-778fe9a85cac",
   "metadata": {},
   "outputs": [
    {
     "name": "stdout",
     "output_type": "stream",
     "text": [
      "25.45049185430553 Wh\n"
     ]
    }
   ],
   "source": [
    "mode = 'pv'\n",
    "if mode == 'draw':\n",
    "    cols = ['relay1_power','relay2_power']\n",
    "elif mode == 'demand':\n",
    "    cols = ['relay1_power','powerstation_outputWAC']\n",
    "elif mode == 'pv':\n",
    "    cols = ['powerstation_inputWDC']\n",
    "\n",
    "# figure out how to deal with NaN - as 0?\n",
    "energy = await CONTROLS.trackWh(s,e,cols)\n",
    "print(f'{energy} Wh')"
   ]
  },
  {
   "cell_type": "code",
   "execution_count": 23,
   "id": "efa1a944-1b67-4970-ba19-503708efdc4d",
   "metadata": {},
   "outputs": [
    {
     "data": {
      "text/plain": [
       "1.0833333333333333"
      ]
     },
     "execution_count": 23,
     "metadata": {},
     "output_type": "execute_result"
    }
   ],
   "source": [
    "65/60"
   ]
  },
  {
   "cell_type": "code",
   "execution_count": 22,
   "id": "68635349-ea2d-41a5-9feb-80eccaca4b24",
   "metadata": {},
   "outputs": [
    {
     "data": {
      "text/plain": [
       "5"
      ]
     },
     "execution_count": 22,
     "metadata": {},
     "output_type": "execute_result"
    }
   ],
   "source": [
    "65%60"
   ]
  },
  {
   "cell_type": "code",
   "execution_count": 6,
   "id": "49bae695-2e6b-433a-9a88-23c933fcd79c",
   "metadata": {},
   "outputs": [],
   "source": [
    "h = datetime.now().hour"
   ]
  },
  {
   "cell_type": "code",
   "execution_count": 21,
   "id": "76c7a39a-7a9b-4f3b-b14b-6ae413168fda",
   "metadata": {},
   "outputs": [
    {
     "ename": "TypeError",
     "evalue": "unsupported operand type(s) for +: 'datetime.time' and 'datetime.timedelta'",
     "output_type": "error",
     "traceback": [
      "\u001b[31m---------------------------------------------------------------------------\u001b[39m",
      "\u001b[31mTypeError\u001b[39m                                 Traceback (most recent call last)",
      "\u001b[36mCell\u001b[39m\u001b[36m \u001b[39m\u001b[32mIn[21]\u001b[39m\u001b[32m, line 1\u001b[39m\n\u001b[32m----> \u001b[39m\u001b[32m1\u001b[39m \u001b[43mtime\u001b[49m\u001b[43m(\u001b[49m\u001b[43mhour\u001b[49m\u001b[43m=\u001b[49m\u001b[32;43m3\u001b[39;49m\u001b[43m+\u001b[49m\u001b[32;43m5\u001b[39;49m\u001b[43m,\u001b[49m\u001b[43mminute\u001b[49m\u001b[43m=\u001b[49m\u001b[32;43m40\u001b[39;49m\u001b[43m+\u001b[49m\u001b[32;43m15\u001b[39;49m\u001b[43m)\u001b[49m\u001b[43m+\u001b[49m\u001b[43mtimedelta\u001b[49m\u001b[43m(\u001b[49m\u001b[43mhours\u001b[49m\u001b[43m=\u001b[49m\u001b[32;43m10\u001b[39;49m\u001b[43m)\u001b[49m\n",
      "\u001b[31mTypeError\u001b[39m: unsupported operand type(s) for +: 'datetime.time' and 'datetime.timedelta'"
     ]
    }
   ],
   "source": [
    "time(hour=3+5,minute=40+15)+timedelta(hours=10)"
   ]
  },
  {
   "cell_type": "code",
   "execution_count": 8,
   "id": "9dc68480-4302-4f09-9454-5728c03661d2",
   "metadata": {},
   "outputs": [
    {
     "data": {
      "text/plain": [
       "'12:15'"
      ]
     },
     "execution_count": 8,
     "metadata": {},
     "output_type": "execute_result"
    }
   ],
   "source": [
    "time(h,15).strftime(\"%H:%M\")"
   ]
  },
  {
   "cell_type": "code",
   "execution_count": 9,
   "id": "fbd40596-a164-4b0b-abf0-14b28c72551d",
   "metadata": {},
   "outputs": [],
   "source": [
    "st = '13:05'"
   ]
  },
  {
   "cell_type": "code",
   "execution_count": 12,
   "id": "0dd06147-bf2b-45b7-a55e-46da785b8309",
   "metadata": {},
   "outputs": [
    {
     "data": {
      "text/plain": [
       "datetime.datetime(1900, 1, 1, 13, 5)"
      ]
     },
     "execution_count": 12,
     "metadata": {},
     "output_type": "execute_result"
    }
   ],
   "source": [
    "datetime.strptime(st,  \"%H:%M\")"
   ]
  },
  {
   "cell_type": "code",
   "execution_count": 20,
   "id": "ba429daf-6771-4d13-815b-f423cfb71fda",
   "metadata": {},
   "outputs": [
    {
     "data": {
      "text/plain": [
       "21"
      ]
     },
     "execution_count": 20,
     "metadata": {},
     "output_type": "execute_result"
    }
   ],
   "source": [
    "datetime.now().day"
   ]
  },
  {
   "cell_type": "code",
   "execution_count": 26,
   "id": "b78db751-305f-4596-95f8-cdd5566445bb",
   "metadata": {},
   "outputs": [
    {
     "data": {
      "text/plain": [
       "datetime.datetime(2025, 4, 18, 16, 0)"
      ]
     },
     "execution_count": 26,
     "metadata": {},
     "output_type": "execute_result"
    }
   ],
   "source": [
    "lastFull = datetime.now() - timedelta(days=3, hours =5)\n",
    "datetime.combine(datetime.date(lastFull),time(16,00))"
   ]
  },
  {
   "cell_type": "code",
   "execution_count": 12,
   "id": "8217b868-36c4-45cb-827b-60867550c2ff",
   "metadata": {},
   "outputs": [
    {
     "ename": "NameError",
     "evalue": "name 'TEST' is not defined",
     "output_type": "error",
     "traceback": [
      "\u001b[31m---------------------------------------------------------------------------\u001b[39m",
      "\u001b[31mNameError\u001b[39m                                 Traceback (most recent call last)",
      "\u001b[36mCell\u001b[39m\u001b[36m \u001b[39m\u001b[32mIn[12]\u001b[39m\u001b[32m, line 1\u001b[39m\n\u001b[32m----> \u001b[39m\u001b[32m1\u001b[39m \u001b[38;5;28;01mif\u001b[39;00m \u001b[43mTEST\u001b[49m:\n\u001b[32m      2\u001b[39m     \u001b[38;5;28mprint\u001b[39m(\u001b[33m'\u001b[39m\u001b[33m!\u001b[39m\u001b[33m'\u001b[39m)\n\u001b[32m      3\u001b[39m \u001b[38;5;28;01melse\u001b[39;00m:\n",
      "\u001b[31mNameError\u001b[39m: name 'TEST' is not defined"
     ]
    }
   ],
   "source": [
    "if TEST:\n",
    "    print('!')\n",
    "else:\n",
    "    print(':(')"
   ]
  },
  {
   "cell_type": "code",
   "execution_count": 16,
   "id": "b45039ee-70ad-47e4-b0cb-386acdb3f714",
   "metadata": {},
   "outputs": [
    {
     "data": {
      "text/plain": [
       "datetime.datetime(2025, 4, 25, 3, 5)"
      ]
     },
     "execution_count": 16,
     "metadata": {},
     "output_type": "execute_result"
    }
   ],
   "source": [
    "tom = datetime.now().date()+timedelta(days=1)\n",
    "CONTROLS.dischargeT = time(hour=3,minute=5)\n",
    "datetime.combine(tom,CONTROLS.dischargeT)"
   ]
  },
  {
   "cell_type": "code",
   "execution_count": 17,
   "id": "7cda9330-a712-44b1-9034-2c15ce399b8e",
   "metadata": {},
   "outputs": [
    {
     "data": {
      "text/plain": [
       "datetime.time(3, 5)"
      ]
     },
     "execution_count": 17,
     "metadata": {},
     "output_type": "execute_result"
    }
   ],
   "source": [
    "CONTROLS.dischargeT"
   ]
  },
  {
   "cell_type": "code",
   "execution_count": 23,
   "id": "95f42d6c-6cd3-4c1b-a5f1-64c1ded6e67e",
   "metadata": {},
   "outputs": [
    {
     "data": {
      "text/plain": [
       "datetime.timedelta(seconds=10733, microseconds=144266)"
      ]
     },
     "execution_count": 23,
     "metadata": {},
     "output_type": "execute_result"
    }
   ],
   "source": [
    "datetime.combine(datetime.now(),CONTROLS.dischargeT) - datetime.now()"
   ]
  },
  {
   "cell_type": "code",
   "execution_count": 25,
   "id": "7b166eb0-ed49-4b67-bf07-8e409cb8ad94",
   "metadata": {},
   "outputs": [
    {
     "data": {
      "text/plain": [
       "datetime.datetime(2025, 4, 24, 0, 13, 12, 12941)"
      ]
     },
     "execution_count": 25,
     "metadata": {},
     "output_type": "execute_result"
    }
   ],
   "source": [
    "datetime.now()"
   ]
  },
  {
   "cell_type": "code",
   "execution_count": 26,
   "id": "6a03cdd5-a5f5-40d7-8406-1ff50a3fe93f",
   "metadata": {},
   "outputs": [
    {
     "data": {
      "text/plain": [
       "datetime.datetime(2025, 4, 24, 3, 5)"
      ]
     },
     "execution_count": 26,
     "metadata": {},
     "output_type": "execute_result"
    }
   ],
   "source": [
    "datetime.combine(datetime.now(),CONTROLS.dischargeT)"
   ]
  },
  {
   "cell_type": "code",
   "execution_count": 22,
   "id": "fb36f167-44c6-4893-b089-03f2ee7fae3d",
   "metadata": {},
   "outputs": [
    {
     "data": {
      "text/plain": [
       "datetime.datetime(2025, 4, 24, 0, 5, 51, 188919)"
      ]
     },
     "execution_count": 22,
     "metadata": {},
     "output_type": "execute_result"
    }
   ],
   "source": [
    "datetime.now()"
   ]
  },
  {
   "cell_type": "code",
   "execution_count": 24,
   "id": "1008f454-8f19-4e39-8502-878a5d45b10c",
   "metadata": {},
   "outputs": [
    {
     "data": {
      "text/plain": [
       "2.9813888888888886"
      ]
     },
     "execution_count": 24,
     "metadata": {},
     "output_type": "execute_result"
    }
   ],
   "source": [
    "10733/60/60"
   ]
  },
  {
   "cell_type": "code",
   "execution_count": null,
   "id": "580a7e56-2834-4507-92f7-4f659239567f",
   "metadata": {},
   "outputs": [],
   "source": []
  }
 ],
 "metadata": {
  "kernelspec": {
   "display_name": "Python 3 (ipykernel)",
   "language": "python",
   "name": "python3"
  },
  "language_info": {
   "codemirror_mode": {
    "name": "ipython",
    "version": 3
   },
   "file_extension": ".py",
   "mimetype": "text/x-python",
   "name": "python",
   "nbconvert_exporter": "python",
   "pygments_lexer": "ipython3",
   "version": "3.12.10"
  }
 },
 "nbformat": 4,
 "nbformat_minor": 5
}
